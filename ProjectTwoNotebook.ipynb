{
 "cells": [
  {
   "cell_type": "code",
   "execution_count": 40,
   "id": "8c06dd06",
   "metadata": {},
   "outputs": [],
   "source": [
    "import csv\n",
    "import pandas as pd"
   ]
  },
  {
   "cell_type": "code",
   "execution_count": 26,
   "id": "7e723d3e",
   "metadata": {},
   "outputs": [],
   "source": [
    "def read_csv(path):\n",
    "  with open(path, 'r') as csvfile:\n",
    "    reader = csv.reader(csvfile, delimiter=',')\n",
    "    return list(reader)\n",
    "\n",
    "data = read_csv(\"/home/isaaclbw/Obsidian/Economics/Data 1/Project 2/sugar-tax-data.csv\")\n",
    "cols = data[0]\n",
    "data = data[1::]"
   ]
  },
  {
   "cell_type": "code",
   "execution_count": 23,
   "id": "716d505f",
   "metadata": {},
   "outputs": [
    {
     "name": "stdout",
     "output_type": "stream",
     "text": [
      "['store_type', 'store_id', 'type', 'type2', 'size', 'price', 'price_per_oz', 'price_per_oz_c', 'taxed', 'supp', 'product_id', 'time', 'Sample']\n",
      "['2', '16', 'WATER', '', '33.8', '1.69', '0.05', '5', '0', '0', '29', 'DEC2014', '1']\n"
     ]
    }
   ],
   "source": [
    "print(columns)\n",
    "print(data[0])"
   ]
  },
  {
   "cell_type": "markdown",
   "id": "f9cefcbb",
   "metadata": {},
   "source": [
    "### Question 1.b"
   ]
  },
  {
   "cell_type": "code",
   "execution_count": 39,
   "id": "dff10b93",
   "metadata": {},
   "outputs": [],
   "source": [
    "def get_distinct(param): \n",
    "    \n",
    "    i = columns.index(param)\n",
    "    param_data = [x[i] for x in data]\n",
    "    return len(set(param_data))"
   ]
  },
  {
   "cell_type": "code",
   "execution_count": 38,
   "id": "2f51e131",
   "metadata": {},
   "outputs": [
    {
     "data": {
      "text/plain": [
       "26"
      ]
     },
     "execution_count": 38,
     "metadata": {},
     "output_type": "execute_result"
    }
   ],
   "source": [
    "get_distinct('store_id')"
   ]
  },
  {
   "cell_type": "code",
   "execution_count": 36,
   "id": "cebd14e6",
   "metadata": {},
   "outputs": [
    {
     "data": {
      "text/plain": [
       "247"
      ]
     },
     "execution_count": 36,
     "metadata": {},
     "output_type": "execute_result"
    }
   ],
   "source": [
    "get_distinct('product_id')"
   ]
  },
  {
   "cell_type": "markdown",
   "id": "5053c44f",
   "metadata": {},
   "source": [
    "### Question 2.a"
   ]
  },
  {
   "cell_type": "code",
   "execution_count": 41,
   "id": "1bd6aba4",
   "metadata": {
    "scrolled": false
   },
   "outputs": [
    {
     "data": {
      "text/html": [
       "<div>\n",
       "<style scoped>\n",
       "    .dataframe tbody tr th:only-of-type {\n",
       "        vertical-align: middle;\n",
       "    }\n",
       "\n",
       "    .dataframe tbody tr th {\n",
       "        vertical-align: top;\n",
       "    }\n",
       "\n",
       "    .dataframe thead th {\n",
       "        text-align: right;\n",
       "    }\n",
       "</style>\n",
       "<table border=\"1\" class=\"dataframe\">\n",
       "  <thead>\n",
       "    <tr style=\"text-align: right;\">\n",
       "      <th></th>\n",
       "      <th>DEC2014</th>\n",
       "      <th>JUN2015</th>\n",
       "    </tr>\n",
       "  </thead>\n",
       "  <tbody>\n",
       "    <tr>\n",
       "      <th>1</th>\n",
       "      <td>177</td>\n",
       "      <td>209</td>\n",
       "    </tr>\n",
       "    <tr>\n",
       "      <th>2</th>\n",
       "      <td>407</td>\n",
       "      <td>391</td>\n",
       "    </tr>\n",
       "    <tr>\n",
       "      <th>3</th>\n",
       "      <td>87</td>\n",
       "      <td>102</td>\n",
       "    </tr>\n",
       "    <tr>\n",
       "      <th>4</th>\n",
       "      <td>73</td>\n",
       "      <td>96</td>\n",
       "    </tr>\n",
       "  </tbody>\n",
       "</table>\n",
       "</div>"
      ],
      "text/plain": [
       "   DEC2014  JUN2015\n",
       "1      177      209\n",
       "2      407      391\n",
       "3       87      102\n",
       "4       73       96"
      ]
     },
     "execution_count": 41,
     "metadata": {},
     "output_type": "execute_result"
    }
   ],
   "source": [
    "results = {1: {\"DEC2014\": 0, \"JUN2015\":0},\n",
    "           2: {\"DEC2014\": 0, \"JUN2015\":0},\n",
    "           3: {\"DEC2014\": 0, \"JUN2015\":0},\n",
    "           4: {\"DEC2014\": 0, \"JUN2015\":0}}\n",
    "\n",
    "time = cols.index(\"time\")\n",
    "store_type = cols.index(\"store_type\")\n",
    "\n",
    "for obs in data: \n",
    "    if obs[time] in [\"DEC2014\", \"JUN2015\"]:\n",
    "        results[int(obs[store_type])][obs[time]] += 1\n",
    "\n",
    "pd.DataFrame(results.values(), index=results.keys())\n"
   ]
  },
  {
   "cell_type": "code",
   "execution_count": null,
   "id": "99791725",
   "metadata": {},
   "outputs": [],
   "source": []
  }
 ],
 "metadata": {
  "kernelspec": {
   "display_name": "Python 3 (ipykernel)",
   "language": "python",
   "name": "python3"
  },
  "language_info": {
   "codemirror_mode": {
    "name": "ipython",
    "version": 3
   },
   "file_extension": ".py",
   "mimetype": "text/x-python",
   "name": "python",
   "nbconvert_exporter": "python",
   "pygments_lexer": "ipython3",
   "version": "3.9.13"
  }
 },
 "nbformat": 4,
 "nbformat_minor": 5
}
