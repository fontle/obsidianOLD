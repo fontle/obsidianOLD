{
 "cells": [
  {
   "cell_type": "code",
   "execution_count": 7,
   "id": "8c06dd06",
   "metadata": {},
   "outputs": [],
   "source": [
    "import csv"
   ]
  },
  {
   "cell_type": "code",
   "execution_count": 26,
   "id": "7e723d3e",
   "metadata": {},
   "outputs": [],
   "source": [
    "def read_csv(path):\n",
    "  with open(path, 'r') as csvfile:\n",
    "    reader = csv.reader(csvfile, delimiter=',')\n",
    "    return list(reader)\n",
    "\n",
    "data = read_csv(\"/home/isaaclbw/Obsidian/Economics/Data 1/Project 2/sugar-tax-data.csv\")\n",
    "cols = data[0]\n",
    "data = data[1::]"
   ]
  },
  {
   "cell_type": "code",
   "execution_count": 23,
   "id": "716d505f",
   "metadata": {},
   "outputs": [
    {
     "name": "stdout",
     "output_type": "stream",
     "text": [
      "['store_type', 'store_id', 'type', 'type2', 'size', 'price', 'price_per_oz', 'price_per_oz_c', 'taxed', 'supp', 'product_id', 'time', 'Sample']\n",
      "['2', '16', 'WATER', '', '33.8', '1.69', '0.05', '5', '0', '0', '29', 'DEC2014', '1']\n"
     ]
    }
   ],
   "source": [
    "print(columns)\n",
    "print(data[0])"
   ]
  },
  {
   "cell_type": "markdown",
   "id": "f9cefcbb",
   "metadata": {},
   "source": [
    "### Question 1.b"
   ]
  },
  {
   "cell_type": "code",
   "execution_count": 39,
   "id": "dff10b93",
   "metadata": {},
   "outputs": [],
   "source": [
    "def get_distinct(param): \n",
    "    \n",
    "    i = columns.index(param)\n",
    "    param_data = [x[i] for x in data]\n",
    "    return len(set(param_data))"
   ]
  },
  {
   "cell_type": "code",
   "execution_count": 38,
   "id": "2f51e131",
   "metadata": {},
   "outputs": [
    {
     "data": {
      "text/plain": [
       "26"
      ]
     },
     "execution_count": 38,
     "metadata": {},
     "output_type": "execute_result"
    }
   ],
   "source": [
    "get_distinct('store_id')"
   ]
  },
  {
   "cell_type": "code",
   "execution_count": 36,
   "id": "cebd14e6",
   "metadata": {},
   "outputs": [
    {
     "data": {
      "text/plain": [
       "247"
      ]
     },
     "execution_count": 36,
     "metadata": {},
     "output_type": "execute_result"
    }
   ],
   "source": [
    "get_distinct('product_id')"
   ]
  },
  {
   "cell_type": "markdown",
   "id": "5053c44f",
   "metadata": {},
   "source": [
    "### Question 2.a"
   ]
  },
  {
   "cell_type": "code",
   "execution_count": 25,
   "id": "1bd6aba4",
   "metadata": {
    "scrolled": false
   },
   "outputs": [],
   "source": [
    "results = dict((x, 0) for x in data[cols.index(\"store_type\")])\n",
    "\n",
    "for obs in data: \n",
    "    if obs[cols.index(\"time\")] in [\"DEC2014\", \"JUN2015\"]:\n",
    "        if obs[cols.index(\"store_type\")] in [\"1\", \"3\"]:\n",
    "            \n"
   ]
  },
  {
   "cell_type": "code",
   "execution_count": null,
   "id": "99791725",
   "metadata": {},
   "outputs": [],
   "source": []
  }
 ],
 "metadata": {
  "kernelspec": {
   "display_name": "Python 3 (ipykernel)",
   "language": "python",
   "name": "python3"
  },
  "language_info": {
   "codemirror_mode": {
    "name": "ipython",
    "version": 3
   },
   "file_extension": ".py",
   "mimetype": "text/x-python",
   "name": "python",
   "nbconvert_exporter": "python",
   "pygments_lexer": "ipython3",
   "version": "3.9.13"
  }
 },
 "nbformat": 4,
 "nbformat_minor": 5
}
